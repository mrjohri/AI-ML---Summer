{
 "cells": [
  {
   "cell_type": "code",
   "execution_count": 30,
   "id": "605215e1",
   "metadata": {},
   "outputs": [],
   "source": [
    "#import model building libraries\n",
    "from tensorflow.keras.models import Sequential\n",
    "from tensorflow.keras.layers import Dense\n",
    "from tensorflow.keras.layers import Convolution2D\n",
    "from tensorflow.keras.layers import MaxPooling2D\n",
    "from tensorflow.keras.layers import Flatten"
   ]
  },
  {
   "cell_type": "markdown",
   "id": "87a5de14",
   "metadata": {},
   "source": [
    "# Image Preprocessing"
   ]
  },
  {
   "cell_type": "code",
   "execution_count": 31,
   "id": "acb2287c",
   "metadata": {},
   "outputs": [],
   "source": [
    "from keras.preprocessing.image import ImageDataGenerator"
   ]
  },
  {
   "cell_type": "code",
   "execution_count": 32,
   "id": "31f03977",
   "metadata": {},
   "outputs": [],
   "source": [
    "#configure image data generator\n",
    "train_datagen = ImageDataGenerator(rescale=1./255, shear_range=0.2, zoom_range=0.2, horizontal_flip=True)\n",
    "test_datagen = ImageDataGenerator(rescale=1./255)\n"
   ]
  },
  {
   "cell_type": "code",
   "execution_count": null,
   "id": "7c43ed6c",
   "metadata": {},
   "outputs": [],
   "source": []
  },
  {
   "cell_type": "code",
   "execution_count": 33,
   "id": "2916ba89",
   "metadata": {},
   "outputs": [
    {
     "name": "stdout",
     "output_type": "stream",
     "text": [
      "Found 2700 images belonging to 3 classes.\n"
     ]
    }
   ],
   "source": [
    "#Apply image datat genrator funtionality to train and test images\n",
    "x_train = train_datagen.flow_from_directory(r\"C:\\Hackdata\\Train_Alphabet\",target_size=(64,64),batch_size=32,class_mode=\"categorical\")"
   ]
  },
  {
   "cell_type": "code",
   "execution_count": 34,
   "id": "02f28bd6",
   "metadata": {},
   "outputs": [
    {
     "name": "stdout",
     "output_type": "stream",
     "text": [
      "Found 300 images belonging to 3 classes.\n"
     ]
    }
   ],
   "source": [
    "x_test = train_datagen.flow_from_directory(r\"C:\\Hackdata\\Test_Alphabet\",target_size=(64,64),batch_size=32,class_mode=\"categorical\")"
   ]
  },
  {
   "cell_type": "code",
   "execution_count": 35,
   "id": "875ff602",
   "metadata": {},
   "outputs": [
    {
     "name": "stdout",
     "output_type": "stream",
     "text": [
      "{'A': 0, 'B': 1, 'C': 2}\n"
     ]
    }
   ],
   "source": [
    "print(x_train.class_indices)"
   ]
  },
  {
   "cell_type": "markdown",
   "id": "7b710ace",
   "metadata": {},
   "source": [
    "# Model Building"
   ]
  },
  {
   "cell_type": "code",
   "execution_count": 36,
   "id": "b97601e5",
   "metadata": {},
   "outputs": [],
   "source": [
    "#initializing the model\n",
    "model = Sequential()"
   ]
  },
  {
   "cell_type": "code",
   "execution_count": 37,
   "id": "a3347dbf",
   "metadata": {},
   "outputs": [],
   "source": [
    "#3.add convolution layer(no.of filters,size of filter,input shape)\n",
    "model.add(Convolution2D(32,(3,3),input_shape=(64,64,3),activation=\"relu\"))"
   ]
  },
  {
   "cell_type": "code",
   "execution_count": 38,
   "id": "fba67f3c",
   "metadata": {},
   "outputs": [],
   "source": [
    "#add max pool layer(pool_size)\n",
    "model.add(MaxPooling2D(pool_size=(2,2)))"
   ]
  },
  {
   "cell_type": "code",
   "execution_count": 39,
   "id": "767cc56f",
   "metadata": {},
   "outputs": [],
   "source": [
    "#add flatten layer --> input of ANN\n",
    "model.add(Flatten())"
   ]
  },
  {
   "cell_type": "code",
   "execution_count": 40,
   "id": "e710d0e8",
   "metadata": {},
   "outputs": [],
   "source": [
    "#ANN hidden layer\n",
    "model.add(Dense(units=64 , activation = \"relu\"))"
   ]
  },
  {
   "cell_type": "code",
   "execution_count": 41,
   "id": "b15af7ba",
   "metadata": {},
   "outputs": [],
   "source": [
    "\n",
    "#Add output layer\n",
    "model.add(Dense(units=3 , activation = \"softmax\"))"
   ]
  },
  {
   "cell_type": "code",
   "execution_count": 42,
   "id": "608444d1",
   "metadata": {},
   "outputs": [],
   "source": [
    "#compile the model (loss function , accuracy , optimizer)\n",
    "model.compile(loss = \"categorical_crossentropy\", optimizer = \"adam\", metrics = \"accuracy\")"
   ]
  },
  {
   "cell_type": "code",
   "execution_count": 43,
   "id": "c4f52773",
   "metadata": {},
   "outputs": [
    {
     "name": "stdout",
     "output_type": "stream",
     "text": [
      "Epoch 1/10\n",
      "85/85 [==============================] - 65s 748ms/step - loss: 0.8018 - accuracy: 0.7204 - val_loss: 0.3009 - val_accuracy: 0.9700\n",
      "Epoch 2/10\n",
      "85/85 [==============================] - 29s 343ms/step - loss: 0.2117 - accuracy: 0.9593 - val_loss: 0.1119 - val_accuracy: 0.9833\n",
      "Epoch 3/10\n",
      "85/85 [==============================] - 29s 340ms/step - loss: 0.1074 - accuracy: 0.9733 - val_loss: 0.0757 - val_accuracy: 0.9867\n",
      "Epoch 4/10\n",
      "85/85 [==============================] - 30s 355ms/step - loss: 0.0767 - accuracy: 0.9830 - val_loss: 0.0817 - val_accuracy: 0.9733\n",
      "Epoch 5/10\n",
      "85/85 [==============================] - 29s 336ms/step - loss: 0.0526 - accuracy: 0.9874 - val_loss: 0.0483 - val_accuracy: 0.9933\n",
      "Epoch 6/10\n",
      "85/85 [==============================] - 28s 326ms/step - loss: 0.0415 - accuracy: 0.9885 - val_loss: 0.0527 - val_accuracy: 0.9800\n",
      "Epoch 7/10\n",
      "85/85 [==============================] - 27s 319ms/step - loss: 0.0410 - accuracy: 0.9885 - val_loss: 0.0634 - val_accuracy: 0.9800\n",
      "Epoch 8/10\n",
      "85/85 [==============================] - 26s 302ms/step - loss: 0.0300 - accuracy: 0.9919 - val_loss: 0.0193 - val_accuracy: 0.9967\n",
      "Epoch 9/10\n",
      "85/85 [==============================] - 26s 303ms/step - loss: 0.0231 - accuracy: 0.9941 - val_loss: 0.0382 - val_accuracy: 0.9900\n",
      "Epoch 10/10\n",
      "85/85 [==============================] - 26s 305ms/step - loss: 0.0191 - accuracy: 0.9952 - val_loss: 0.0246 - val_accuracy: 0.9900\n"
     ]
    },
    {
     "data": {
      "text/plain": [
       "<keras.src.callbacks.History at 0x26df65f2990>"
      ]
     },
     "execution_count": 43,
     "metadata": {},
     "output_type": "execute_result"
    }
   ],
   "source": [
    "#model.fit(x_train,steps_per_epoch = 39 ,epochs = 10, validation_data = x_test, validation_steps=10)\n",
    "\n",
    "model.fit(x_train, steps_per_epoch=len(x_train), epochs=10, validation_data=x_test, validation_steps=len(x_test))"
   ]
  },
  {
   "cell_type": "code",
   "execution_count": 44,
   "id": "7617797f",
   "metadata": {},
   "outputs": [
    {
     "name": "stdout",
     "output_type": "stream",
     "text": [
      "Model: \"sequential_1\"\n",
      "_________________________________________________________________\n",
      " Layer (type)                Output Shape              Param #   \n",
      "=================================================================\n",
      " conv2d_1 (Conv2D)           (None, 62, 62, 32)        896       \n",
      "                                                                 \n",
      " max_pooling2d_1 (MaxPoolin  (None, 31, 31, 32)        0         \n",
      " g2D)                                                            \n",
      "                                                                 \n",
      " flatten_1 (Flatten)         (None, 30752)             0         \n",
      "                                                                 \n",
      " dense_2 (Dense)             (None, 64)                1968192   \n",
      "                                                                 \n",
      " dense_3 (Dense)             (None, 3)                 195       \n",
      "                                                                 \n",
      "=================================================================\n",
      "Total params: 1969283 (7.51 MB)\n",
      "Trainable params: 1969283 (7.51 MB)\n",
      "Non-trainable params: 0 (0.00 Byte)\n",
      "_________________________________________________________________\n"
     ]
    }
   ],
   "source": [
    "model.summary()"
   ]
  },
  {
   "cell_type": "code",
   "execution_count": 45,
   "id": "46ad3b59",
   "metadata": {},
   "outputs": [],
   "source": [
    "#save model\n",
    "model.save(\"slientspeaklast.h5\")"
   ]
  },
  {
   "cell_type": "markdown",
   "id": "9335397b",
   "metadata": {},
   "source": [
    "# Test the model"
   ]
  },
  {
   "cell_type": "code",
   "execution_count": 46,
   "id": "129d5772",
   "metadata": {},
   "outputs": [],
   "source": [
    "import tensorflow as tf\n",
    "from tensorflow.keras.models import load_model\n",
    "from tensorflow.keras.preprocessing import image\n",
    "import numpy as np"
   ]
  },
  {
   "cell_type": "code",
   "execution_count": 47,
   "id": "cd21542f",
   "metadata": {},
   "outputs": [],
   "source": [
    "model = tf.keras.models.load_model(r\"slientspeak.h5\",compile=False)"
   ]
  },
  {
   "cell_type": "code",
   "execution_count": 48,
   "id": "2f75b94d",
   "metadata": {},
   "outputs": [],
   "source": [
    "img=image.load_img(r\"C:\\Users\\shrey\\Downloads\\archive\\sign_language\\yes\\WIN_20240125_23_28_47_Pro.jpg\",target_size=(64,64))"
   ]
  },
  {
   "cell_type": "code",
   "execution_count": 20,
   "id": "2adc6422",
   "metadata": {},
   "outputs": [
    {
     "data": {
      "image/png": "[encoded data removed]",
      "text/plain": [
       "<PIL.Image.Image image mode=RGB size=64x64>"
      ]
     },
     "execution_count": 20,
     "metadata": {},
     "output_type": "execute_result"
    }
   ],
   "source": [
    "img"
   ]
  },
  {
   "cell_type": "code",
   "execution_count": 21,
   "id": "1ec34f4a",
   "metadata": {},
   "outputs": [],
   "source": [
    "x=image.img_to_array(img)"
   ]
  },
  {
   "cell_type": "code",
   "execution_count": 22,
   "id": "98357cfe",
   "metadata": {},
   "outputs": [
    {
     "data": {
      "text/plain": [
       "array([[[126., 125., 121.],\n",
       "        [123., 122., 118.],\n",
       "        [127., 121., 107.],\n",
       "        ...,\n",
       "        [139., 149., 140.],\n",
       "        [159., 150., 151.],\n",
       "        [151., 151., 149.]],\n",
       "\n",
       "       [[113., 123., 112.],\n",
       "        [131., 122., 127.],\n",
       "        [121., 119., 120.],\n",
       "        ...,\n",
       "        [159., 150., 151.],\n",
       "        [157., 149., 146.],\n",
       "        [134., 128., 114.]],\n",
       "\n",
       "       [[122., 126., 129.],\n",
       "        [133., 121., 131.],\n",
       "        [114., 124., 123.],\n",
       "        ...,\n",
       "        [156., 152., 153.],\n",
       "        [144., 149., 142.],\n",
       "        [ 22.,  37.,  34.]],\n",
       "\n",
       "       ...,\n",
       "\n",
       "       [[184., 185., 187.],\n",
       "        [177., 183., 183.],\n",
       "        [181., 185., 186.],\n",
       "        ...,\n",
       "        [127., 152., 172.],\n",
       "        [ 22.,  39.,  65.],\n",
       "        [ 16.,  25.,  24.]],\n",
       "\n",
       "       [[193., 186., 193.],\n",
       "        [188., 183., 187.],\n",
       "        [179., 183., 192.],\n",
       "        ...,\n",
       "        [ 88., 136., 156.],\n",
       "        [120., 137., 145.],\n",
       "        [ 38.,  28.,  29.]],\n",
       "\n",
       "       [[182., 183., 188.],\n",
       "        [183., 179., 180.],\n",
       "        [178., 182., 185.],\n",
       "        ...,\n",
       "        [ 45., 129., 155.],\n",
       "        [ 87., 133., 157.],\n",
       "        [ 18.,  49.,  78.]]], dtype=float32)"
      ]
     },
     "execution_count": 22,
     "metadata": {},
     "output_type": "execute_result"
    }
   ],
   "source": [
    "x"
   ]
  },
  {
   "cell_type": "code",
   "execution_count": 23,
   "id": "81833427",
   "metadata": {},
   "outputs": [],
   "source": [
    "x=np.expand_dims(x,axis=0)"
   ]
  },
  {
   "cell_type": "code",
   "execution_count": 24,
   "id": "44559c2d",
   "metadata": {},
   "outputs": [
    {
     "data": {
      "text/plain": [
       "4"
      ]
     },
     "execution_count": 24,
     "metadata": {},
     "output_type": "execute_result"
    }
   ],
   "source": [
    "x.ndim"
   ]
  },
  {
   "cell_type": "code",
   "execution_count": 25,
   "id": "16618c8c",
   "metadata": {},
   "outputs": [
    {
     "data": {
      "text/plain": [
       "(1, 64, 64, 3)"
      ]
     },
     "execution_count": 25,
     "metadata": {},
     "output_type": "execute_result"
    }
   ],
   "source": [
    "x.shape"
   ]
  },
  {
   "cell_type": "code",
   "execution_count": 26,
   "id": "a3f8854d",
   "metadata": {},
   "outputs": [
    {
     "name": "stdout",
     "output_type": "stream",
     "text": [
      "1/1 [==============================] - 0s 61ms/step\n"
     ]
    }
   ],
   "source": [
    "pred=model.predict(x)"
   ]
  },
  {
   "cell_type": "code",
   "execution_count": 27,
   "id": "60029d13",
   "metadata": {},
   "outputs": [
    {
     "data": {
      "text/plain": [
       "array([[0.0000000e+00, 1.9862367e-21, 9.9999988e-01, 1.4514076e-11,\n",
       "        3.9171697e-27, 0.0000000e+00, 6.1790395e-08, 0.0000000e+00,\n",
       "        0.0000000e+00, 0.0000000e+00]], dtype=float32)"
      ]
     },
     "execution_count": 27,
     "metadata": {},
     "output_type": "execute_result"
    }
   ],
   "source": [
    "pred"
   ]
  },
  {
   "cell_type": "code",
   "execution_count": 28,
   "id": "7a03f1c9",
   "metadata": {},
   "outputs": [],
   "source": [
    "pred_class=np.argmax(pred,axis=1)"
   ]
  },
  {
   "cell_type": "code",
   "execution_count": 29,
   "id": "7ea4fca2",
   "metadata": {},
   "outputs": [
    {
     "data": {
      "text/plain": [
       "2"
      ]
     },
     "execution_count": 29,
     "metadata": {},
     "output_type": "execute_result"
    }
   ],
   "source": [
    "pred_class[0]"
   ]
  },
  {
   "cell_type": "code",
   "execution_count": null,
   "id": "c0e71af7",
   "metadata": {},
   "outputs": [],
   "source": [
    "index=[\"bears\",\"crows\",\"elephants\",\"rats\"]\n",
    "\n",
    "result = str(index[pred_class[0]])"
   ]
  },
  {
   "cell_type": "code",
   "execution_count": null,
   "id": "8ec3357d",
   "metadata": {},
   "outputs": [],
   "source": [
    "result"
   ]
  },
  {
   "cell_type": "code",
   "execution_count": null,
   "id": "94b130a7",
   "metadata": {},
   "outputs": [],
   "source": []
  }
 ],
 "metadata": {
  "kernelspec": {
   "display_name": "Python 3 (ipykernel)",
   "language": "python",
   "name": "python3"
  },
  "language_info": {
   "codemirror_mode": {
    "name": "ipython",
    "version": 3
   },
   "file_extension": ".py",
   "mimetype": "text/x-python",
   "name": "python",
   "nbconvert_exporter": "python",
   "pygments_lexer": "ipython3",
   "version": "3.11.4"
  }
 },
 "nbformat": 4,
 "nbformat_minor": 5
}
